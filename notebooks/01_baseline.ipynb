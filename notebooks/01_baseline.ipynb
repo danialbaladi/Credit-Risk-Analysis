{
  "cells": [
    {
      "cell_type": "markdown",
      "metadata": {},
      "source": [
        "# 01_baseline (placeholder)\n",
        "\n",
        "در مرحلهٔ ۲ به بعد این نوت‌بوک را تکمیل می‌کنیم."
      ]
    }
  ],
  "metadata": {
    "kernelspec": {
      "display_name": "Python 3",
      "language": "python",
      "name": "python3"
    },
    "language_info": {
      "name": "python",
      "version": "3"
    }
  },
  "nbformat": 4,
  "nbformat_minor": 5
}