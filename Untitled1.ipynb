{
 "cells": [
  {
   "cell_type": "code",
   "execution_count": null,
   "id": "d3f991ab-e48c-4b3e-ac86-67a8d9333a7e",
   "metadata": {},
   "outputs": [],
   "source": [
    "اعداد منفی توی BILL_AMT5 نشون دهنده ی چی هستن ؟\n",
    "\n",
    "\n",
    "\n",
    "\n",
    "\n",
    "\n",
    "\n",
    "\n",
    "\n",
    "\n",
    "\n",
    "\n",
    "\n",
    "\n",
    "\n",
    "\n",
    "\n",
    "\n",
    "\n",
    "\n",
    "\n",
    "\n",
    "\n"
   ]
  }
 ],
 "metadata": {
  "kernelspec": {
   "display_name": "Python (craenv)",
   "language": "python",
   "name": "craenv"
  },
  "language_info": {
   "codemirror_mode": {
    "name": "ipython",
    "version": 3
   },
   "file_extension": ".py",
   "mimetype": "text/x-python",
   "name": "python",
   "nbconvert_exporter": "python",
   "pygments_lexer": "ipython3",
   "version": "3.12.3"
  }
 },
 "nbformat": 4,
 "nbformat_minor": 5
}
