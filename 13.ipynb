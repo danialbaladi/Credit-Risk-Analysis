{
 "cells": [
  {
   "cell_type": "code",
   "execution_count": 4,
   "id": "85046a61-8a39-4e7a-b398-49c7a7ecd36b",
   "metadata": {},
   "outputs": [],
   "source": [
    "import pandas as pd\n",
    "from sklearn.linear_model import LogisticRegression\n",
    "from sklearn.naive_bayes import GaussianNB\n",
    "from sklearn.model_selection import GridSearchCV\n",
    "from sklearn.metrics import accuracy_score\n",
    "\n",
    "\n",
    "target_col = \"default.payment.next.month\"\n",
    "train = pd.read_csv(\"/home/danial/Data Science/Credit Risk Analysis/data/processed/Final/train.csv\")\n",
    "val   = pd.read_csv(\"/home/danial/Data Science/Credit Risk Analysis/data/processed/Final/val.csv\")\n",
    "\n",
    "X_train = train.drop(columns=[target_col])\n",
    "y_train = train[target_col]\n",
    "X_val   = val.drop(columns=[target_col])\n",
    "y_val   = val[target_col]\n"
   ]
  },
  {
   "cell_type": "code",
   "execution_count": 5,
   "id": "977aceeb-5aed-438f-8b7f-420c48359139",
   "metadata": {},
   "outputs": [],
   "source": [
    "param_grid_logreg = {\n",
    "    'C': [0.01, 0.1, 1, 10],  \n",
    "    'solver': ['liblinear', 'lbfgs'] \n",
    "}\n"
   ]
  },
  {
   "cell_type": "code",
   "execution_count": 7,
   "id": "b1ce7067-3f95-46a3-8e3d-59cd6d62771b",
   "metadata": {},
   "outputs": [
    {
     "name": "stdout",
     "output_type": "stream",
     "text": [
      "Best Params (LogReg): {'C': 0.01, 'solver': 'lbfgs'}\n",
      "Best CV Accuracy (LogReg): 0.8070416666666667\n"
     ]
    }
   ],
   "source": [
    "logreg = LogisticRegression(max_iter=10000, random_state=7)\n",
    "\n",
    "grid_logreg = GridSearchCV(\n",
    "    estimator=logreg,\n",
    "    param_grid=param_grid_logreg,\n",
    "    cv=3,\n",
    "    scoring='accuracy',\n",
    "    n_jobs=-1\n",
    ")\n",
    "\n",
    "grid_logreg.fit(X_train, y_train)\n",
    "\n",
    "print(\"Best Params (LogReg):\", grid_logreg.best_params_)\n",
    "print(\"Best CV Accuracy (LogReg):\", grid_logreg.best_score_)\n"
   ]
  },
  {
   "cell_type": "code",
   "execution_count": 8,
   "id": "9170ebf6-e915-4241-a574-add6716b6ace",
   "metadata": {},
   "outputs": [
    {
     "name": "stdout",
     "output_type": "stream",
     "text": [
      "Validation Accuracy (LogReg): 0.816\n"
     ]
    }
   ],
   "source": [
    "best_logreg = grid_logreg.best_estimator_\n",
    "best_logreg.fit(X_train, y_train)\n",
    "\n",
    "y_val_pred_logreg = best_logreg.predict(X_val)\n",
    "val_acc_logreg = accuracy_score(y_val, y_val_pred_logreg)\n",
    "\n",
    "print(\"Validation Accuracy (LogReg):\", val_acc_logreg)\n"
   ]
  },
  {
   "cell_type": "code",
   "execution_count": 9,
   "id": "67be3602-56d5-4a57-a7c0-d0e92af6cc05",
   "metadata": {},
   "outputs": [],
   "source": [
    "param_grid_gnb = {\n",
    "    'var_smoothing': [1e-09, 1e-08, 1e-07, 1e-06]\n",
    "}\n"
   ]
  },
  {
   "cell_type": "code",
   "execution_count": 10,
   "id": "5bcf5c36-c767-4858-849e-524e13bb8584",
   "metadata": {},
   "outputs": [
    {
     "name": "stdout",
     "output_type": "stream",
     "text": [
      "Best Params (GNB): {'var_smoothing': 1e-07}\n",
      "Best CV Accuracy (GNB): 0.8019583333333333\n"
     ]
    }
   ],
   "source": [
    "gnb = GaussianNB()\n",
    "\n",
    "grid_gnb = GridSearchCV(\n",
    "    estimator=gnb,\n",
    "    param_grid=param_grid_gnb,\n",
    "    cv=3,\n",
    "    scoring='accuracy',\n",
    "    n_jobs=-1\n",
    ")\n",
    "\n",
    "grid_gnb.fit(X_train, y_train)\n",
    "\n",
    "print(\"Best Params (GNB):\", grid_gnb.best_params_)\n",
    "print(\"Best CV Accuracy (GNB):\", grid_gnb.best_score_)\n"
   ]
  },
  {
   "cell_type": "code",
   "execution_count": 11,
   "id": "c99b492b-b0dd-4c25-9c94-d21d401ac769",
   "metadata": {},
   "outputs": [
    {
     "name": "stdout",
     "output_type": "stream",
     "text": [
      "Validation Accuracy (GNB): 0.8106666666666666\n"
     ]
    }
   ],
   "source": [
    "best_gnb = grid_gnb.best_estimator_\n",
    "best_gnb.fit(X_train, y_train)\n",
    "\n",
    "y_val_pred_gnb = best_gnb.predict(X_val)\n",
    "val_acc_gnb = accuracy_score(y_val, y_val_pred_gnb)\n",
    "\n",
    "print(\"Validation Accuracy (GNB):\", val_acc_gnb)\n"
   ]
  },
  {
   "cell_type": "code",
   "execution_count": 12,
   "id": "63e03a05-9ff8-4a44-999a-f45ace6979f7",
   "metadata": {},
   "outputs": [
    {
     "name": "stdout",
     "output_type": "stream",
     "text": [
      "Logistic Regression (Validation Accuracy): 0.8160\n",
      "GaussianNB        (Validation Accuracy): 0.8107\n"
     ]
    }
   ],
   "source": [
    "print(f\"Logistic Regression (Validation Accuracy): {val_acc_logreg:.4f}\")\n",
    "print(f\"GaussianNB        (Validation Accuracy): {val_acc_gnb:.4f}\")\n"
   ]
  },
  {
   "cell_type": "code",
   "execution_count": null,
   "id": "9abeaff3-3fc6-4664-8f0e-e5673763f04f",
   "metadata": {},
   "outputs": [],
   "source": []
  }
 ],
 "metadata": {
  "kernelspec": {
   "display_name": "Python (craenv)",
   "language": "python",
   "name": "craenv"
  },
  "language_info": {
   "codemirror_mode": {
    "name": "ipython",
    "version": 3
   },
   "file_extension": ".py",
   "mimetype": "text/x-python",
   "name": "python",
   "nbconvert_exporter": "python",
   "pygments_lexer": "ipython3",
   "version": "3.12.3"
  }
 },
 "nbformat": 4,
 "nbformat_minor": 5
}
