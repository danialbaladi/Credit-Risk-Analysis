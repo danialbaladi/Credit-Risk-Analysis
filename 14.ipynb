{
 "cells": [
  {
   "cell_type": "code",
   "execution_count": 2,
   "id": "d1849ee8-f971-469f-8b06-53303b465085",
   "metadata": {},
   "outputs": [],
   "source": [
    "import pandas as pd\n",
    "from sklearn.model_selection import StratifiedKFold, cross_val_score\n",
    "from sklearn.linear_model import LogisticRegression\n",
    "from sklearn.naive_bayes import GaussianNB\n",
    "from sklearn.metrics import make_scorer, f1_score\n"
   ]
  },
  {
   "cell_type": "code",
   "execution_count": 3,
   "id": "76097240-0796-4171-8597-71342e8fd000",
   "metadata": {},
   "outputs": [],
   "source": [
    "train_path = \"/home/danial/Data Science/Credit Risk Analysis/data/processed/Final/train.csv\"\n",
    "df = pd.read_csv(train_path)\n",
    "\n",
    "target_col = \"default.payment.next.month\"\n",
    "\n",
    "\n",
    "X = df.drop(columns=[target_col])\n",
    "y = df[target_col]\n"
   ]
  },
  {
   "cell_type": "code",
   "execution_count": 4,
   "id": "bb3fc2a7-3c80-4521-8348-89f2c9ab049e",
   "metadata": {},
   "outputs": [],
   "source": [
    "k = 5\n",
    "skf = StratifiedKFold(n_splits=k, shuffle=True, random_state=42)\n",
    "\n",
    "\n",
    "scoring = {\n",
    "    'accuracy': 'accuracy',\n",
    "    'f1': make_scorer(f1_score)\n",
    "}\n"
   ]
  },
  {
   "cell_type": "code",
   "execution_count": 5,
   "id": "69f9d664-a54c-414c-aa89-3f5045b9f59c",
   "metadata": {},
   "outputs": [
    {
     "name": "stdout",
     "output_type": "stream",
     "text": [
      "Logistic Regression - Accuracy: 0.8077 ± 0.0022\n",
      "Logistic Regression - F1-Score: 0.3942 ± 0.0121\n"
     ]
    }
   ],
   "source": [
    "log_reg = LogisticRegression(C=0.01, solver='lbfgs', max_iter=10000)\n",
    "\n",
    "\n",
    "acc_scores_lr = cross_val_score(log_reg, X, y, cv=skf, scoring='accuracy')\n",
    "f1_scores_lr = cross_val_score(log_reg, X, y, cv=skf, scoring=make_scorer(f1_score))\n",
    "\n",
    "print(\"Logistic Regression - Accuracy: %.4f ± %.4f\" % (acc_scores_lr.mean(), acc_scores_lr.std()))\n",
    "print(\"Logistic Regression - F1-Score: %.4f ± %.4f\" % (f1_scores_lr.mean(), f1_scores_lr.std()))\n"
   ]
  },
  {
   "cell_type": "code",
   "execution_count": 6,
   "id": "e7a14616-9aa4-4ec6-b909-28d4d5e86560",
   "metadata": {},
   "outputs": [
    {
     "name": "stdout",
     "output_type": "stream",
     "text": [
      "GaussianNB - Accuracy: 0.8022 ± 0.0019\n",
      "GaussianNB - F1-Score: 0.3273 ± 0.0217\n"
     ]
    }
   ],
   "source": [
    "gnb = GaussianNB(var_smoothing=1e-07)\n",
    "\n",
    "acc_scores_gnb = cross_val_score(gnb, X, y, cv=skf, scoring='accuracy')\n",
    "f1_scores_gnb = cross_val_score(gnb, X, y, cv=skf, scoring=make_scorer(f1_score))\n",
    "\n",
    "print(\"GaussianNB - Accuracy: %.4f ± %.4f\" % (acc_scores_gnb.mean(), acc_scores_gnb.std()))\n",
    "print(\"GaussianNB - F1-Score: %.4f ± %.4f\" % (f1_scores_gnb.mean(), f1_scores_gnb.std()))\n"
   ]
  },
  {
   "cell_type": "code",
   "execution_count": 8,
   "id": "7e234611-1346-4b6a-86ca-accddb75016b",
   "metadata": {},
   "outputs": [
    {
     "name": "stdout",
     "output_type": "stream",
     "text": [
      "✅ Logistic Regression performs better based on cross-validation.\n"
     ]
    }
   ],
   "source": [
    "if acc_scores_lr.mean() > acc_scores_gnb.mean():\n",
    "    print(\"✅ Logistic Regression performs better based on cross-validation.\")\n",
    "    best_model = log_reg\n",
    "else:\n",
    "    print(\"✅ GaussianNB performs better based on cross-validation.\")\n",
    "    best_model = gnb\n"
   ]
  },
  {
   "cell_type": "code",
   "execution_count": null,
   "id": "293a3405-f1c3-43b1-b15b-95ca270cc5d8",
   "metadata": {},
   "outputs": [],
   "source": [
    "from joblib import dump\n",
    "\n",
    "\n",
    "train_df = pd.read_csv(\"/home/danial/Data Science/Credit Risk Analysis/data/processed/Final/train.csv\")\n",
    "val_df = pd.read_csv(\"/home/danial/Data Science/Credit Risk Analysis/data/processed/Final/val.csv\")\n",
    "\n",
    "\n",
    "full_train_df = pd.concat([train_df, val_df], ignore_index=True)\n",
    "\n",
    "\n",
    "X_full = full_train_df.drop(columns=['default'])\n",
    "y_full = full_train_df['default']\n",
    "\n",
    "\n",
    "log_reg = LogisticRegression(C=0.01, solver='lbfgs', max_iter=10000)\n",
    "\n",
    "\n",
    "log_reg.fit(X_full, y_full)\n",
    "\n",
    "\n",
    "dump(log_reg, \"/home/danial/Data Science/Credit Risk Analysis/models/logistic_regression_final.joblib\")\n",
    "\n",
    "print(\"✅ Final Logistic Regression model has been trained on Train+Val and saved successfully.\")\n"
   ]
  },
  {
   "cell_type": "code",
   "execution_count": null,
   "id": "82e597cb-354b-49d2-be00-18356aed2b1a",
   "metadata": {},
   "outputs": [],
   "source": []
  }
 ],
 "metadata": {
  "kernelspec": {
   "display_name": "Python (craenv)",
   "language": "python",
   "name": "craenv"
  },
  "language_info": {
   "codemirror_mode": {
    "name": "ipython",
    "version": 3
   },
   "file_extension": ".py",
   "mimetype": "text/x-python",
   "name": "python",
   "nbconvert_exporter": "python",
   "pygments_lexer": "ipython3",
   "version": "3.12.3"
  }
 },
 "nbformat": 4,
 "nbformat_minor": 5
}
