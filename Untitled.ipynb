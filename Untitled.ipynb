{
 "cells": [
  {
   "cell_type": "code",
   "execution_count": 1,
   "id": "8f825ea1-e00e-462f-8a52-582f9c8b3e6e",
   "metadata": {},
   "outputs": [
    {
     "name": "stdout",
     "output_type": "stream",
     "text": [
      "✅ کدها اضافه شد از: /home/danial/Data Science/Credit Risk Analysis/12.ipynb\n",
      "✅ کدها اضافه شد از: /home/danial/Data Science/Credit Risk Analysis/13.ipynb\n",
      "✅ کدها اضافه شد از: /home/danial/Data Science/Credit Risk Analysis/5.ipynb\n",
      "✅ کدها اضافه شد از: /home/danial/Data Science/Credit Risk Analysis/9.ipynb\n",
      "✅ کدها اضافه شد از: /home/danial/Data Science/Credit Risk Analysis/14.ipynb\n",
      "✅ کدها اضافه شد از: /home/danial/Data Science/Credit Risk Analysis/Untitled.ipynb\n",
      "✅ کدها اضافه شد از: /home/danial/Data Science/Credit Risk Analysis/8.ipynb\n",
      "✅ کدها اضافه شد از: /home/danial/Data Science/Credit Risk Analysis/7.ipynb\n",
      "✅ کدها اضافه شد از: /home/danial/Data Science/Credit Risk Analysis/4.ipynb\n",
      "✅ کدها اضافه شد از: /home/danial/Data Science/Credit Risk Analysis/11.ipynb\n",
      "✅ کدها اضافه شد از: /home/danial/Data Science/Credit Risk Analysis/3.ipynb\n",
      "✅ کدها اضافه شد از: /home/danial/Data Science/Credit Risk Analysis/10.ipynb\n",
      "❌ خطا در پردازش /home/danial/Data Science/Credit Risk Analysis/notebooks/02_eda.ipynb: Expecting value: line 1 column 1 (char 0)\n",
      "✅ کدها اضافه شد از: /home/danial/Data Science/Credit Risk Analysis/notebooks/01_baseline.ipynb\n",
      "✅ کدها اضافه شد از: /home/danial/Data Science/Credit Risk Analysis/.ipynb_checkpoints/13-checkpoint.ipynb\n",
      "✅ کدها اضافه شد از: /home/danial/Data Science/Credit Risk Analysis/.ipynb_checkpoints/14-checkpoint.ipynb\n",
      "✅ کدها اضافه شد از: /home/danial/Data Science/Credit Risk Analysis/.ipynb_checkpoints/9-checkpoint.ipynb\n",
      "✅ کدها اضافه شد از: /home/danial/Data Science/Credit Risk Analysis/.ipynb_checkpoints/5-checkpoint.ipynb\n",
      "✅ کدها اضافه شد از: /home/danial/Data Science/Credit Risk Analysis/.ipynb_checkpoints/3-checkpoint.ipynb\n",
      "✅ کدها اضافه شد از: /home/danial/Data Science/Credit Risk Analysis/.ipynb_checkpoints/Untitled-checkpoint.ipynb\n",
      "✅ کدها اضافه شد از: /home/danial/Data Science/Credit Risk Analysis/.ipynb_checkpoints/eda3-checkpoint.ipynb\n",
      "✅ کدها اضافه شد از: /home/danial/Data Science/Credit Risk Analysis/.ipynb_checkpoints/12-checkpoint.ipynb\n",
      "✅ کدها اضافه شد از: /home/danial/Data Science/Credit Risk Analysis/.ipynb_checkpoints/4-checkpoint.ipynb\n",
      "✅ کدها اضافه شد از: /home/danial/Data Science/Credit Risk Analysis/.ipynb_checkpoints/8-checkpoint.ipynb\n",
      "✅ کدها اضافه شد از: /home/danial/Data Science/Credit Risk Analysis/.ipynb_checkpoints/10-checkpoint.ipynb\n",
      "✅ کدها اضافه شد از: /home/danial/Data Science/Credit Risk Analysis/.ipynb_checkpoints/11-checkpoint.ipynb\n",
      "✅ کدها اضافه شد از: /home/danial/Data Science/Credit Risk Analysis/.ipynb_checkpoints/7-checkpoint.ipynb\n",
      "\n",
      "🎉 همه کدها در یک فایل ذخیره شد: /home/danial/Data Science/Credit Risk Analysis/all_notebooks.txt\n"
     ]
    }
   ],
   "source": [
    "import json\n",
    "import os\n",
    "\n",
    "# مسیر اصلی\n",
    "base_dir = \"/home/danial/Data Science/Credit Risk Analysis\"\n",
    "\n",
    "# فایل خروجی نهایی\n",
    "output_file = os.path.join(base_dir, \"all_notebooks.txt\")\n",
    "\n",
    "with open(output_file, \"w\", encoding=\"utf-8\") as out_f:\n",
    "    for root, dirs, files in os.walk(base_dir):\n",
    "        for file_name in files:\n",
    "            if file_name.endswith(\".ipynb\"):\n",
    "                notebook_path = os.path.join(root, file_name)\n",
    "\n",
    "                try:\n",
    "                    with open(notebook_path, \"r\", encoding=\"utf-8\") as f:\n",
    "                        data = json.load(f)\n",
    "\n",
    "                    all_code = []\n",
    "                    for cell in data.get(\"cells\", []):\n",
    "                        if cell.get(\"cell_type\") == \"code\":  # فقط کد\n",
    "                            all_code.extend(cell.get(\"source\", []))\n",
    "                            all_code.append(\"\\n---\\n\")\n",
    "\n",
    "                    code_output = \"\".join(all_code)\n",
    "\n",
    "                    # نوشتن داخل فایل خروجی با نام نوت‌بوک\n",
    "                    out_f.write(f\"\\n\\n===== 📓 {notebook_path} =====\\n\\n\")\n",
    "                    out_f.write(code_output)\n",
    "                    out_f.write(\"\\n\\n=============================\\n\\n\")\n",
    "\n",
    "                    print(f\"✅ کدها اضافه شد از: {notebook_path}\")\n",
    "\n",
    "                except Exception as e:\n",
    "                    print(f\"❌ خطا در پردازش {notebook_path}: {e}\")\n",
    "\n",
    "print(f\"\\n🎉 همه کدها در یک فایل ذخیره شد: {output_file}\")\n"
   ]
  },
  {
   "cell_type": "code",
   "execution_count": null,
   "id": "0b9b353b-60c5-4625-a740-e1fcbecc0df3",
   "metadata": {},
   "outputs": [],
   "source": []
  }
 ],
 "metadata": {
  "kernelspec": {
   "display_name": "Python (craenv)",
   "language": "python",
   "name": "craenv"
  },
  "language_info": {
   "codemirror_mode": {
    "name": "ipython",
    "version": 3
   },
   "file_extension": ".py",
   "mimetype": "text/x-python",
   "name": "python",
   "nbconvert_exporter": "python",
   "pygments_lexer": "ipython3",
   "version": "3.12.3"
  }
 },
 "nbformat": 4,
 "nbformat_minor": 5
}
